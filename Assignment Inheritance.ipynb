{
 "cells": [
  {
   "cell_type": "markdown",
   "id": "37ade259",
   "metadata": {},
   "source": [
    "# Assignment Inheritance\n",
    "    * Import mother and father class attributes\n",
    "    * Add two new attributes to the child class constructor"
   ]
  },
  {
   "cell_type": "code",
   "execution_count": 46,
   "id": "9744da48",
   "metadata": {},
   "outputs": [],
   "source": [
    "class Mother():\n",
    "    def __init__(self, name, age):\n",
    "        self.name = name\n",
    "        self.age = None\n",
    "        self.profession = None\n",
    "    \n",
    "    def cook(self):\n",
    "        if self.profession == None:\n",
    "            self.profession = input('Enter profession: ')\n",
    "        if self.profession == \"housewife\" or self.profession == \"homemaker\":\n",
    "            print(f\"{self.name} takes responsibility of cooking 2 meals a day\")\n",
    "        else: \n",
    "            print(f\"{self.name} doesnot cook as {self.profession} are with busy schedule\")\n",
    "\n",
    "class Father():\n",
    "    def __init__(self, name, age):\n",
    "        self.name = name\n",
    "        self.age = age\n",
    "        self.occupation = None\n",
    "    \n",
    "    def work(self):\n",
    "        if self.occupation == \"salaried\" or self.occupation == \"self employed\":\n",
    "            print(f\"{self.name} works in service industry\")\n",
    "        elif self.occupation == \"business\":\n",
    "            print(f\"{self.name} runs his own business\")\n",
    "        else:\n",
    "            print(f\"{self.name} is unemployed or has not mentioned\")\n",
    "\n",
    "            \n",
    "class Child(Mother, Father):\n",
    "    def __init__(self, name, age, education):\n",
    "        Mother.__init__(self, name, age)\n",
    "        Father.__init__(self, name, age)\n",
    "        self.education = education\n",
    "        self.relationship = None\n",
    "        \n",
    "    def relation(self):\n",
    "        if self.relationship == None:\n",
    "            self.relationship = input(f\"Tell relationship status of {self.name}\")\n",
    "        if self.age <= 21 and self.relationship != \"single\":\n",
    "            print(f\"{self.name} should focus on studies for now\")\n",
    "        elif self.occupation != 'student':\n",
    "            print(f\"It is ok for {self.name} to be in relationship\")\n",
    "        "
   ]
  },
  {
   "cell_type": "code",
   "execution_count": 48,
   "id": "db3ea44d",
   "metadata": {},
   "outputs": [],
   "source": [
    "M1 = Mother('Halima', 35) # creating of mother instance/object\n",
    "F1 = Father('Sultan', 42)# creating of father instance/object\n",
    "C1 = Child('Kaka', 24, \"Masters\") # creating of child instance/object\n"
   ]
  },
  {
   "cell_type": "code",
   "execution_count": 49,
   "id": "734d9d14",
   "metadata": {},
   "outputs": [],
   "source": [
    "# assigning values to the attributes \n",
    "F1.occupation = 'business'\n",
    "C1.occupation = 'self employed' # father attribute inhereted in child instance\n",
    "C1.relationship = 'single'"
   ]
  },
  {
   "cell_type": "code",
   "execution_count": 50,
   "id": "8a525a03",
   "metadata": {},
   "outputs": [
    {
     "name": "stdout",
     "output_type": "stream",
     "text": [
      "Kaka works in service industry\n",
      "Sultan runs his own business\n",
      "Enter profession: actress\n",
      "Halima doesnot cook as actress are with busy schedule\n"
     ]
    }
   ],
   "source": [
    "C1.work()\n",
    "F1.work()\n",
    "M1.cook()\n"
   ]
  },
  {
   "cell_type": "code",
   "execution_count": 55,
   "id": "dc4922fd",
   "metadata": {},
   "outputs": [
    {
     "name": "stdout",
     "output_type": "stream",
     "text": [
      "Kaka doesnot cook as engineer are with busy schedule\n",
      "It is ok for Kaka to be in relationship\n"
     ]
    }
   ],
   "source": [
    "C1.cook()\n",
    "C1.relation()"
   ]
  }
 ],
 "metadata": {
  "kernelspec": {
   "display_name": "Python 3 (ipykernel)",
   "language": "python",
   "name": "python3"
  },
  "language_info": {
   "codemirror_mode": {
    "name": "ipython",
    "version": 3
   },
   "file_extension": ".py",
   "mimetype": "text/x-python",
   "name": "python",
   "nbconvert_exporter": "python",
   "pygments_lexer": "ipython3",
   "version": "3.9.12"
  }
 },
 "nbformat": 4,
 "nbformat_minor": 5
}
